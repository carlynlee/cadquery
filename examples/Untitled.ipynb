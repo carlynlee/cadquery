{
 "cells": [
  {
   "cell_type": "code",
   "execution_count": 2,
   "id": "abb47d8e-77b5-407c-b047-4d3814b52c6b",
   "metadata": {},
   "outputs": [
    {
     "ename": "NameError",
     "evalue": "name 'show_object' is not defined",
     "output_type": "error",
     "traceback": [
      "\u001b[31m---------------------------------------------------------------------------\u001b[39m",
      "\u001b[31mNameError\u001b[39m                                 Traceback (most recent call last)",
      "\u001b[36mCell\u001b[39m\u001b[36m \u001b[39m\u001b[32mIn[2]\u001b[39m\u001b[32m, line 25\u001b[39m\n\u001b[32m     16\u001b[39m result = (\n\u001b[32m     17\u001b[39m     cq.Workplane(\u001b[33m\"\u001b[39m\u001b[33mXY\u001b[39m\u001b[33m\"\u001b[39m)\n\u001b[32m     18\u001b[39m     .box(length, height, thickness)\n\u001b[32m   (...)\u001b[39m\u001b[32m     21\u001b[39m     .hole(center_hole_dia)\n\u001b[32m     22\u001b[39m )\n\u001b[32m     24\u001b[39m \u001b[38;5;66;03m# Displays the result of this script\u001b[39;00m\n\u001b[32m---> \u001b[39m\u001b[32m25\u001b[39m \u001b[43mshow_object\u001b[49m(result)\n",
      "\u001b[31mNameError\u001b[39m: name 'show_object' is not defined"
     ]
    }
   ],
   "source": [
    "import cadquery as cq\n",
    "\n",
    "# These can be modified rather than hardcoding values for each dimension.\n",
    "length = 80.0  # Length of the block\n",
    "height = 60.0  # Height of the block\n",
    "thickness = 10.0  # Thickness of the block\n",
    "center_hole_dia = 22.0  # Diameter of center hole in block\n",
    "\n",
    "# Create a block based on the dimensions above and add a 22mm center hole.\n",
    "# 1.  Establishes a workplane that an object can be built on.\n",
    "# 1a. Uses the X and Y origins to define the workplane, meaning that the\n",
    "# positive Z direction is \"up\", and the negative Z direction is \"down\".\n",
    "# 2.  The highest (max) Z face is selected and a new workplane is created on it.\n",
    "# 3.  The new workplane is used to drill a hole through the block.\n",
    "# 3a. The hole is automatically centered in the workplane.\n",
    "result = (\n",
    "    cq.Workplane(\"XY\")\n",
    "    .box(length, height, thickness)\n",
    "    .faces(\">Z\")\n",
    "    .workplane()\n",
    "    .hole(center_hole_dia)\n",
    ")\n",
    "\n",
    "# Displays the result of this script\n",
    "show_object(result)\n"
   ]
  },
  {
   "cell_type": "code",
   "execution_count": null,
   "id": "48425273-538b-416a-844f-5dfaf2e2246d",
   "metadata": {},
   "outputs": [],
   "source": []
  }
 ],
 "metadata": {
  "kernelspec": {
   "display_name": "Python 3 (ipykernel)",
   "language": "python",
   "name": "python3"
  },
  "language_info": {
   "codemirror_mode": {
    "name": "ipython",
    "version": 3
   },
   "file_extension": ".py",
   "mimetype": "text/x-python",
   "name": "python",
   "nbconvert_exporter": "python",
   "pygments_lexer": "ipython3",
   "version": "3.11.13"
  }
 },
 "nbformat": 4,
 "nbformat_minor": 5
}
